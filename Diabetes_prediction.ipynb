{
 "cells": [
  {
   "cell_type": "markdown",
   "metadata": {
    "colab_type": "text",
    "id": "view-in-github"
   },
   "source": [
    "<a href=\"https://colab.research.google.com/github/jaysonlam/diabetes_prediction/blob/main/Diabetes_prediction.ipynb\" target=\"_parent\"><img src=\"https://colab.research.google.com/assets/colab-badge.svg\" alt=\"Open In Colab\"/></a>"
   ]
  },
  {
   "cell_type": "code",
   "execution_count": null,
   "metadata": {
    "colab": {
     "base_uri": "https://localhost:8080/"
    },
    "id": "B17_NISDa71S",
    "outputId": "bd27f545-adc7-4d8e-d89e-00989a1dc8e4"
   },
   "outputs": [],
   "source": [
    "# from google.colab import drive\n",
    "# drive.mount('/content/drive/')\n",
    "# %cd /content/drive/MyDrive/dataset/"
   ]
  },
  {
   "cell_type": "code",
   "execution_count": null,
   "metadata": {
    "id": "8k_VeQuZWLqX"
   },
   "outputs": [],
   "source": [
    "import pandas as pd\n",
    "import numpy as np\n",
    "import random\n",
    "import matplotlib.pyplot as plt\n",
    "import seaborn as sns\n",
    "from sklearn.impute import KNNImputer,SimpleImputer\n",
    "from sklearn.preprocessing import OneHotEncoder\n",
    "from sklearn.model_selection import train_test_split,GridSearchCV\n",
    "from sklearn.pipeline import Pipeline\n",
    "from sklearn.compose import ColumnTransformer"
   ]
  },
  {
   "cell_type": "code",
   "execution_count": null,
   "metadata": {
    "id": "JcjkE92XWUiG"
   },
   "outputs": [],
   "source": [
    "data = pd.read_csv('nhgh.tsv', sep='\\t')\n",
    "data = data.drop([\"seqn\"], axis=1)"
   ]
  },
  {
   "cell_type": "code",
   "execution_count": null,
   "metadata": {
    "colab": {
     "base_uri": "https://localhost:8080/",
     "height": 423
    },
    "id": "EwbAypDoWdtw",
    "outputId": "2594f93c-d540-44ca-e4aa-f77556c1f69b"
   },
   "outputs": [],
   "source": [
    "data"
   ]
  },
  {
   "cell_type": "code",
   "execution_count": null,
   "metadata": {
    "colab": {
     "base_uri": "https://localhost:8080/"
    },
    "id": "Ix5hEl_lsq3Q",
    "outputId": "02769076-5cd6-40a5-a128-f4fb5fb54f3b"
   },
   "outputs": [],
   "source": [
    "na_count_per_column = data.isna().sum()\n",
    "print(\"NA count in each column:\")\n",
    "print(na_count_per_column)"
   ]
  },
  {
   "cell_type": "markdown",
   "metadata": {
    "id": "7EFdK-jSYgKd"
   },
   "source": [
    "Convert gh to binary value to indicate diabetic patients"
   ]
  },
  {
   "cell_type": "code",
   "execution_count": null,
   "metadata": {
    "id": "VqAMZM7EWbFc"
   },
   "outputs": [],
   "source": [
    "data[\"gh\"] = data[\"gh\"].apply(lambda x: 1 if x>=6.5 else 0)"
   ]
  },
  {
   "cell_type": "code",
   "execution_count": null,
   "metadata": {
    "colab": {
     "base_uri": "https://localhost:8080/",
     "height": 472
    },
    "id": "tYpKstb8QQzb",
    "outputId": "d66c07fe-c090-458b-a657-ea513d630d5b"
   },
   "outputs": [],
   "source": [
    "diabetic_data = data[data['gh'] == 1]\n",
    "plt.hist(diabetic_data['age'], bins=20, color='skyblue', edgecolor='black')\n",
    "plt.title('Age Distribution of Diabetic Individuals')\n",
    "plt.xlabel('Age')\n",
    "plt.ylabel('Frequency')\n",
    "plt.show()"
   ]
  },
  {
   "cell_type": "code",
   "execution_count": null,
   "metadata": {
    "colab": {
     "base_uri": "https://localhost:8080/",
     "height": 490
    },
    "id": "Pq1GDvMDM5MR",
    "outputId": "b8c42b59-e8c0-4d9f-898c-e0b4281e2526"
   },
   "outputs": [],
   "source": [
    "plt.scatter(data['armc'], data['arml'], c=data['gh'], cmap='viridis')\n",
    "plt.xlabel('Arm Circumference')\n",
    "plt.ylabel('Arm length')\n",
    "plt.title('Arm Circumference vs Arm length, Colored by Diabetic Status')\n",
    "_ = plt.legend()"
   ]
  },
  {
   "cell_type": "code",
   "execution_count": null,
   "metadata": {
    "colab": {
     "base_uri": "https://localhost:8080/",
     "height": 689
    },
    "id": "BMQjff1IMtEr",
    "outputId": "aa115ed6-3d94-49ff-f5ad-bd16b5927de3"
   },
   "outputs": [],
   "source": [
    "gh_counts = data['gh'].groupby(data['re']).mean()\n",
    "gh_counts.plot(kind='bar')\n",
    "plt.title('Diabetic Ratio by Race')\n",
    "plt.xlabel('Race')\n",
    "_ = plt.ylabel('Ratio')"
   ]
  },
  {
   "cell_type": "code",
   "execution_count": null,
   "metadata": {
    "colab": {
     "base_uri": "https://localhost:8080/",
     "height": 756
    },
    "id": "EW4CbOv3Bkn1",
    "outputId": "9b94dfcd-b9bd-4103-e30a-9236ea297e90"
   },
   "outputs": [],
   "source": [
    "# Calculate the correlation matrix\n",
    "correlation_matrix = data.corr()\n",
    "\n",
    "# Plot the heatmap\n",
    "plt.figure(figsize=(10, 8))\n",
    "sns.heatmap(correlation_matrix, annot=True, cmap='coolwarm', fmt=\".2f\", linewidths=0.5)\n",
    "plt.title('Correlation Matrix')\n",
    "plt.show()"
   ]
  },
  {
   "cell_type": "markdown",
   "metadata": {
    "id": "qR41dsS7VPBz"
   },
   "source": [
    "Possible features to remove are wt,armc,waist due to high correlation with bmi"
   ]
  },
  {
   "cell_type": "code",
   "execution_count": null,
   "metadata": {
    "colab": {
     "base_uri": "https://localhost:8080/"
    },
    "id": "Aeye54l-iuzb",
    "outputId": "54ad90f3-6831-49d6-89a0-7e48c461e62b"
   },
   "outputs": [],
   "source": [
    "y = data[\"gh\"]\n",
    "data = data.drop([\"gh\"], axis=1)\n",
    "y_values_count = y.value_counts()\n",
    "print(\"Number of each value in gh column:\")\n",
    "print(y_values_count)"
   ]
  },
  {
   "cell_type": "markdown",
   "metadata": {
    "id": "nDa_TnAiUczM"
   },
   "source": [
    "# Preprocessing Pipeline"
   ]
  },
  {
   "cell_type": "code",
   "execution_count": null,
   "metadata": {
    "id": "tMYy2iHUlish"
   },
   "outputs": [],
   "source": [
    "num_pipeline = Pipeline([\n",
    "    ('impute', KNNImputer()),\n",
    "])"
   ]
  },
  {
   "cell_type": "code",
   "execution_count": null,
   "metadata": {
    "id": "8TGoRneul4y5"
   },
   "outputs": [],
   "source": [
    "cat_pipeline = Pipeline([\n",
    "    ('impute', SimpleImputer(strategy='constant', fill_value='missing')),\n",
    "    ('encode', OneHotEncoder(handle_unknown=\"ignore\", sparse_output=False))\n",
    "])"
   ]
  },
  {
   "cell_type": "code",
   "execution_count": null,
   "metadata": {
    "id": "xP3JloqfnP5R"
   },
   "outputs": [],
   "source": [
    "cat_cols = data.select_dtypes(include=['object']).columns.tolist()\n",
    "num_cols = data.select_dtypes(exclude=['object']).columns.tolist()"
   ]
  },
  {
   "cell_type": "code",
   "execution_count": null,
   "metadata": {
    "id": "iHxma5hQnAn7"
   },
   "outputs": [],
   "source": [
    "data_pipeline = ColumnTransformer([\n",
    "    ('numerical', num_pipeline, num_cols),\n",
    "    ('categorical', cat_pipeline, cat_cols),\n",
    "])"
   ]
  },
  {
   "cell_type": "markdown",
   "metadata": {
    "id": "xauY-tYQ5RHw"
   },
   "source": [
    "## Code to handle class imbalance"
   ]
  },
  {
   "cell_type": "code",
   "execution_count": null,
   "metadata": {
    "id": "YMWaHkvfO-Wz"
   },
   "outputs": [],
   "source": [
    "# from imblearn.under_sampling import RandomUnderSampler\n",
    "# from imblearn.over_sampling import RandomOverSampler,SMOTE\n",
    "# from imblearn.pipeline import Pipeline as ResamplingPipeline\n",
    "\n",
    "# resampling_pipeline = ResamplingPipeline([\n",
    "#     ('preprocessing', data_pipeline),\n",
    "#     ('undersample', RandomUnderSampler(sampling_strategy=0.1, random_state=42)),\n",
    "#     #('upsample', RandomOverSampler(random_state=42)),\n",
    "#     ('SMOTE',SMOTE(random_state=42))\n",
    "# ])\n",
    "\n",
    "# pre_X_train, pre_X_test, pre_y_train, y_test = train_test_split(data, y, test_size=0.2, random_state=42)\n",
    "# X_train, y_train = resampling_pipeline.fit_resample(pre_X_train, pre_y_train)\n",
    "# X_test = pd.DataFrame(data=data_pipeline.fit_transform(pre_X_test))"
   ]
  },
  {
   "cell_type": "code",
   "execution_count": null,
   "metadata": {
    "id": "l7d660G8IeTm"
   },
   "outputs": [],
   "source": [
    "transformed_data = pd.DataFrame(data=data_pipeline.fit_transform(data))\n",
    "X_train, X_test, y_train, y_test = train_test_split(transformed_data, y, test_size=0.2, random_state=42)\n",
    "feature_names = data_pipeline.get_feature_names_out()"
   ]
  },
  {
   "cell_type": "code",
   "execution_count": null,
   "metadata": {
    "colab": {
     "base_uri": "https://localhost:8080/"
    },
    "id": "9JBfqTysx0Kz",
    "outputId": "62cdc03a-566e-4902-ba05-146cedc277a8"
   },
   "outputs": [],
   "source": [
    "y_train.value_counts()"
   ]
  },
  {
   "cell_type": "code",
   "execution_count": null,
   "metadata": {
    "colab": {
     "base_uri": "https://localhost:8080/"
    },
    "id": "GcEBUThix1qo",
    "outputId": "dc46d59f-e461-470d-fca7-1b40f66d748a"
   },
   "outputs": [],
   "source": [
    "y_test.value_counts()"
   ]
  },
  {
   "cell_type": "code",
   "execution_count": null,
   "metadata": {
    "id": "KAmFAm4Mzx8V"
   },
   "outputs": [],
   "source": [
    "from sklearn.linear_model import LogisticRegression\n",
    "from sklearn.tree import DecisionTreeClassifier\n",
    "from sklearn.ensemble import RandomForestClassifier\n",
    "from sklearn.metrics import accuracy_score, classification_report, ConfusionMatrixDisplay"
   ]
  },
  {
   "cell_type": "markdown",
   "metadata": {
    "id": "pJec0XDy5dGm"
   },
   "source": [
    "# Logistic Regression"
   ]
  },
  {
   "cell_type": "code",
   "execution_count": null,
   "metadata": {
    "colab": {
     "base_uri": "https://localhost:8080/",
     "height": 650
    },
    "id": "IZfd2h8UxoHO",
    "outputId": "71c1bfe5-2bc8-44d4-e5b3-453437f9987c"
   },
   "outputs": [],
   "source": [
    "lr = Pipeline([('logistic_regression',LogisticRegression(random_state=42))])\n",
    "\n",
    "# Define hyperparameters for grid search\n",
    "param_grid = {\n",
    "    'logistic_regression__solver': ['lbfgs', 'liblinear', 'newton-cg', 'newton-cholesky', 'sag', 'saga'],\n",
    "    'logistic_regression__penalty': ['l2'],\n",
    "    'logistic_regression__C': [0.001, 0.01, 0.1, 1, 10,100]\n",
    "}\n",
    "\n",
    "# Perform grid search cross-validation\n",
    "grid_search = GridSearchCV(lr, param_grid, scoring='accuracy', n_jobs=-1)\n",
    "grid_search.fit(X_train, y_train)\n",
    "\n",
    "# Get the best model\n",
    "best_lr = grid_search.best_estimator_\n",
    "coefficients = best_lr.named_steps['logistic_regression'].coef_\n",
    "\n",
    "# Predictions on the test set\n",
    "y_pred = best_lr.predict(X_test)\n",
    "\n",
    "# Print model details\n",
    "print(\"Best hyperparameters:\", grid_search.best_params_)\n",
    "\n",
    "# Additional evaluation metrics\n",
    "print(classification_report(y_test, y_pred))\n",
    "ConfusionMatrixDisplay.from_predictions(y_test, y_pred)"
   ]
  },
  {
   "cell_type": "code",
   "execution_count": null,
   "metadata": {
    "colab": {
     "base_uri": "https://localhost:8080/"
    },
    "id": "yv2plraNruMm",
    "outputId": "6d748598-e2b1-4932-e790-1be4e8a8fe97"
   },
   "outputs": [],
   "source": [
    "# Print the sorted coefficients with feature names\n",
    "coefficients_with_names = list(zip(feature_names, coefficients[0]))\n",
    "sorted_coefficients = sorted(coefficients_with_names, key=lambda x: abs(x[1]), reverse=True)\n",
    "print(\"Ranked coefficients:\")\n",
    "for feature, coefficient in sorted_coefficients:\n",
    "    print(f\"{feature}: {coefficient}\")\n"
   ]
  },
  {
   "cell_type": "markdown",
   "metadata": {
    "id": "HOJBPY1FJK-K"
   },
   "source": [
    "# Decision Tree"
   ]
  },
  {
   "cell_type": "code",
   "execution_count": 23,
   "metadata": {
    "colab": {
     "base_uri": "https://localhost:8080/",
     "height": 650
    },
    "id": "vt6rnmU6x3uj",
    "outputId": "a0243694-0c91-4448-e0e7-8ad2e9786e09"
   },
   "outputs": [
    {
     "name": "stdout",
     "output_type": "stream",
     "text": [
      "Best Hyperparameters: {'ccp_alpha': 0.0007725203293579772, 'criterion': 'gini', 'max_depth': 3, 'max_features': None}\n",
      "              precision    recall  f1-score   support\n",
      "\n",
      "           0       0.97      0.97      0.97      1224\n",
      "           1       0.72      0.72      0.72       135\n",
      "\n",
      "    accuracy                           0.94      1359\n",
      "   macro avg       0.84      0.84      0.84      1359\n",
      "weighted avg       0.94      0.94      0.94      1359\n",
      "\n"
     ]
    },
    {
     "data": {
      "text/plain": [
       "<sklearn.metrics._plot.confusion_matrix.ConfusionMatrixDisplay at 0x2111ade3050>"
      ]
     },
     "execution_count": 23,
     "metadata": {},
     "output_type": "execute_result"
    },
    {
     "data": {
      "image/png": "[encoded data removed]",
      "text/plain": [
       "<Figure size 640x480 with 2 Axes>"
      ]
     },
     "metadata": {},
     "output_type": "display_data"
    }
   ],
   "source": [
    "dt = DecisionTreeClassifier(random_state=42)\n",
    "\n",
    "# Get cost-complexity pruning path\n",
    "path = dt.cost_complexity_pruning_path(X_train, y_train)\n",
    "ccp_alphas, impurities = path.ccp_alphas, path.impurities\n",
    "\n",
    "# Define hyperparameters for grid search\n",
    "param_grid = {\n",
    "    'ccp_alpha': ccp_alphas,\n",
    "    'max_depth': [None, 2, 3, 5],\n",
    "    'criterion': [\"gini\", \"entropy\"],\n",
    "    'max_features': ['sqrt', 'log2', None],\n",
    "}\n",
    "\n",
    "# Perform grid search cross-validation\n",
    "grid_search = GridSearchCV(dt, param_grid, scoring='accuracy')\n",
    "grid_search.fit(X_train, y_train)\n",
    "\n",
    "# Get the best model\n",
    "best_dt = grid_search.best_estimator_\n",
    "best_alpha = best_dt.ccp_alpha\n",
    "best_hyperparams = grid_search.best_params_\n",
    "\n",
    "# Predictions on the test set\n",
    "y_pred = best_dt.predict(X_test)\n",
    "\n",
    "# Print model details\n",
    "print(\"Best Hyperparameters:\",best_hyperparams)\n",
    "\n",
    "# Additional evaluation metrics\n",
    "print(classification_report(y_test, y_pred))\n",
    "ConfusionMatrixDisplay.from_predictions(y_test, y_pred)"
   ]
  },
  {
   "cell_type": "code",
   "execution_count": 24,
   "metadata": {
    "colab": {
     "base_uri": "https://localhost:8080/",
     "height": 653
    },
    "id": "pT8fFOA-FLam",
    "outputId": "c1de731b-13c3-4f24-c3e9-434204373f93"
   },
   "outputs": [
    {
     "data": {
      "image/png": "[encoded data removed]",
      "text/plain": [
       "<Figure size 1200x800 with 1 Axes>"
      ]
     },
     "metadata": {},
     "output_type": "display_data"
    }
   ],
   "source": [
    "from sklearn.tree import DecisionTreeClassifier, plot_tree\n",
    "# Plot decision tree\n",
    "plt.figure(figsize=(12, 8))\n",
    "plot_tree(best_dt, filled=True, feature_names=list(feature_names), class_names=['No Diabetes', 'Diabetes'])\n",
    "plt.show()"
   ]
  },
  {
   "cell_type": "code",
   "execution_count": 25,
   "metadata": {
    "colab": {
     "base_uri": "https://localhost:8080/"
    },
    "id": "zilsbfSsJnkb",
    "outputId": "29cfe7d9-5d72-4af2-b33d-39b355794488"
   },
   "outputs": [
    {
     "name": "stdout",
     "output_type": "stream",
     "text": [
      "Feature Importances:\n",
      "1. numerical__tx: 0.9074922515700354\n",
      "2. numerical__dx: 0.0287044537833756\n",
      "3. numerical__waist: 0.020495470832087047\n",
      "4. numerical__SCr: 0.016736047569147646\n",
      "5. numerical__bun: 0.015079634018240246\n",
      "6. categorical__income_[0,5000): 0.011492142227114205\n"
     ]
    }
   ],
   "source": [
    "# Display feature importances\n",
    "importances = best_dt.feature_importances_\n",
    "indices = np.argsort(importances)[::-1]\n",
    "print(\"Feature Importances:\")\n",
    "for i, idx in enumerate(indices):\n",
    "    if importances[idx]==0:\n",
    "      break\n",
    "    print(f\"{i + 1}. {feature_names[idx]}: {importances[idx]}\")"
   ]
  },
  {
   "cell_type": "code",
   "execution_count": null,
   "metadata": {
    "colab": {
     "base_uri": "https://localhost:8080/",
     "height": 650
    },
    "id": "uS3sL6-gzgca",
    "outputId": "8015d2b0-b5c4-4265-8879-3693a000c5fd"
   },
   "outputs": [],
   "source": [
    "rf = RandomForestClassifier(random_state=42)\n",
    "\n",
    "param_grid = {\n",
    "    'n_estimators': [25,50,100],\n",
    "    'max_depth': [None, 2, 3 ,5],\n",
    "    'max_features': ['sqrt', 'log2', None],\n",
    "    'ccp_alpha': [0.05,0.1,0.15]\n",
    "}\n",
    "\n",
    "\n",
    "# Perform grid search cross-validation\n",
    "grid_search = GridSearchCV(estimator=rf, param_grid=param_grid, scoring='accuracy')\n",
    "grid_search.fit(X_train, y_train)\n",
    "\n",
    "# Get the best model\n",
    "print(\"Best parameters:\", grid_search.best_params_)\n",
    "best_rf = grid_search.best_estimator_\n",
    "\n",
    "# Predictions on the test set\n",
    "y_pred = best_rf.predict(X_test)\n",
    "\n",
    "# Additional evaluation metrics\n",
    "print(classification_report(y_test, y_pred))\n",
    "ConfusionMatrixDisplay.from_predictions(y_test, y_pred)"
   ]
  },
  {
   "cell_type": "code",
   "execution_count": null,
   "metadata": {
    "colab": {
     "base_uri": "https://localhost:8080/",
     "height": 807
    },
    "id": "uGfNgiIIeuRm",
    "outputId": "9be28c4d-4ea1-48d1-de67-76e0266fdecd"
   },
   "outputs": [],
   "source": [
    "plt.figure(figsize=(20, 10))\n",
    "plot_tree(best_rf.estimators_[0], feature_names=list(feature_names), filled=True, class_names=['No Diabetes', 'Diabetes'])\n",
    "plt.show()"
   ]
  },
  {
   "cell_type": "code",
   "execution_count": null,
   "metadata": {
    "colab": {
     "base_uri": "https://localhost:8080/"
    },
    "id": "OSv11FP_UD9O",
    "outputId": "a99cf931-55ff-4f51-9cb2-ec612a24a423"
   },
   "outputs": [],
   "source": [
    "# Display feature importances\n",
    "importances = best_rf.feature_importances_\n",
    "indices = np.argsort(importances)[::-1]\n",
    "print(\"Feature Importances:\")\n",
    "for i, idx in enumerate(indices):\n",
    "    if importances[idx]==0:\n",
    "      break\n",
    "    print(f\"{i + 1}. {feature_names[idx]}: {importances[idx]}\")"
   ]
  },
  {
   "cell_type": "markdown",
   "metadata": {
    "id": "FnPv-nglfOan"
   },
   "source": [
    "# Model Evaluation\n",
    "\n",
    "My assumptions for diabetes prediction is that having more false positives is better than false negatives because it is more important for diabetic patients to receive treatment. Thus, more emphasis should be placed on minimizing the value in the bottom-left of the confusion matrix while maintaining the total false positive and false negatives at a low value.\n",
    "\n",
    "Based on the feature importance ranking retrieved from all models, I have identified tx and dx to be the most important variables. All models heavily rely on the value of tx(on insulin or diabetes meds) which is based on the initial medical diagnosis. This suggests that the data is not sufficient to predict the presence of diabetes.\n",
    "\n",
    "This is evident as the best model among the three is the random forest. It has the best accuracy and f1-score compared to others models. By comparing the diagram between decision tree and random forest, it can be observed that the random forest is a pruned version of the decision tree which prevents overfitting. The logistic regression model has a higher false negative rate and lower accuracy compared to the other models."
   ]
  },
  {
   "cell_type": "code",
   "execution_count": null,
   "metadata": {},
   "outputs": [],
   "source": []
  }
 ],
 "metadata": {
  "colab": {
   "authorship_tag": "ABX9TyPBzTFkUR6UuiEyPMCuHdYl",
   "include_colab_link": true,
   "provenance": []
  },
  "kernelspec": {
   "display_name": "Python 3 (ipykernel)",
   "language": "python",
   "name": "python3"
  },
  "language_info": {
   "codemirror_mode": {
    "name": "ipython",
    "version": 3
   },
   "file_extension": ".py",
   "mimetype": "text/x-python",
   "name": "python",
   "nbconvert_exporter": "python",
   "pygments_lexer": "ipython3",
   "version": "3.11.4"
  }
 },
 "nbformat": 4,
 "nbformat_minor": 1
}
